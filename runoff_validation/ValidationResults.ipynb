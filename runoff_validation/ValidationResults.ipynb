{
 "cells": [
  {
   "cell_type": "markdown",
   "metadata": {},
   "source": [
    "# Validation results \n",
    "These are the numerical results obtained by running the synthetic runoff test cases given in Fernandez et al (2016). The test cases consider shallow water flow on a terrain given a rain pattern, infiltration formula, friction and runoff from the domain.\n",
    "\n",
    "\n",
    "The three test cases consider:\n",
    "* Runoff from a sloping domain after 5 different rain events\n",
    "* Runoff from a sloping domain with a water trap\n",
    "* Runoff and infiltration of water from a sloping terrain with many water traps.\n",
    "\n",
    "Some details will be given below, but for the full details and the reference results, please see the original paper by Fernandez-Pato et al.\n",
    "\n",
    "To run it, use the `double_test_runoff.jl` script in this folder. The name \"double\" refers to double precision, as it was required to pass the test. See the discussion about this in `docs/shallow_water_equations.ipynb`.\n",
    "\n",
    "#### Reference:\n",
    "* Fernandez-Pato, Caviedes-Voullieme, Garcia-Navarro (2016) *Rainfall/runoff simulation with 2D full shallow water equations: Sensitivity analysis and calibration of infiltration parameters*. Journal of Hydrology\n",
    "536, 496-513 DOI: [10.1016/j.jhydrol.2016.03.021](https://doi.org/10.1016/j.jhydrol.2016.03.021)\n"
   ]
  },
  {
   "cell_type": "markdown",
   "metadata": {},
   "source": [
    "## Computing runoff volume from the domain:\n",
    "Runoff is the integrated flux over the boundary of the domain of interest. One way to compute it is to add up all the fluxes across the boundary faces, which is not straight forward given that the computational core is on GPU, and would also lead to a performance penality, and non-general code in the computational kernel. Furthermore, the boundary conditions at this open boundary must also be implemented such that we don't get any reflecting waves back into our domain. \n",
    "\n",
    "In the following, we consider runoff by extending the computational boundary with a sloping pool that catches all the water that leaves the domain of interest. We furthermore ensure that there is no infiltration or rain in this pool, and that it has wall boundary conditions. This means that the volume of the trapped water in the pool at any given time is the runoff until that moment."
   ]
  },
  {
   "cell_type": "markdown",
   "metadata": {},
   "source": [
    "# Case 1\n",
    "Linear slope from $x = 0 ... 2000$ m long with 10 m height difference. Infiltration that decays exponentially in time from a maximum rate to a minimum rate. The rain is homogeneous in the computational domain but varies in time with different patterns and rates between cases 1-1 to 1-5.\n",
    "\n",
    "The figures shows development in time of\n",
    "* discharge of added water through rain in blue,\n",
    "* discharge of removed water through runoff in orange,\n",
    "* discharge of removed water through infiltration in green, and\n",
    "* runoff volume in red.\n",
    "Note that the discharge relates to the left y-axis, whereas the runoff volume relates to the right y-axis.\n",
    "\n",
    "These figures corresponds to Fig 3 a)-f) in the reference paper, but these figures does not show infiltration discharge.\n",
    "\n",
    "### Case 1-1\n",
    "\n",
    "![Case 1-1](plots/d_fcg_case_1_1/fcg_hyd_outlet_infiltration_fig.png)\n",
    "\n",
    "### Case 1-2\n",
    "\n",
    "![Case 1-2](plots/d_fcg_case_1_2/fcg_hyd_outlet_infiltration_fig.png)\n",
    "\n",
    "### Case 1-3\n",
    "\n",
    "![Case 1-3](plots/d_fcg_case_1_3/fcg_hyd_outlet_infiltration_fig.png)\n",
    "\n",
    "### Case 1-4\n",
    "\n",
    "![Case 1-4](plots/d_fcg_case_1_4/fcg_hyd_outlet_infiltration_fig.png)\n",
    "\n",
    "### Case 1-5\n",
    "\n",
    "![Case 1-5](plots/d_fcg_case_1_5/fcg_hyd_outlet_infiltration_fig.png)\n",
    "\n",
    "For case 1-5 they also show the situation at $x \\approx 1000$ m as well in their fig 4.\n",
    "Here, we see rain rate (m/s) in light blue (right y-axis), friction rate (m/s) in orange (right y-axis), and water depth (m) in dark blue (left y-axis).\n",
    "\n",
    "![Case 1-5 at x = 1000](plots/d_fcg_case_1_5/fcg_hyd_1000_fig.png)\n"
   ]
  },
  {
   "cell_type": "markdown",
   "metadata": {},
   "source": [
    "# Case 2\n",
    "\n",
    "We now add a trench (storage area) 5 meter deep and 10 m wide at the bottom and 20 m wide at the top starting (see fig 6 in their paper). The start of this trench is either at x=100 (case 2-100) or at x=1900 (case 2-1900).\n",
    "We then use the rain patter from case 1-1 and look at the runoff discharge and the runoff volume.\n",
    "\n",
    "### Case 2-100\n",
    "\n",
    "![Case 2-100](plots/d_fcg_case_2_100/fcg_hyd_outlet_infiltration_fig.png)\n",
    "\n",
    "### Case 2-1900\n",
    "\n",
    "![Case 2-100](plots/d_fcg_case_2_1900/fcg_hyd_outlet_infiltration_fig.png)\n"
   ]
  },
  {
   "cell_type": "markdown",
   "metadata": {},
   "source": [
    "# Case 3\n",
    "\n",
    "Here, we have a sine-shaped terrain on a slope, meaning that rain on the slope will be caught in multiple storage areas. Here's the water depth shown in blue on top of the red terrain in a cross section along the x-axis at the three points in time shown in Fig 9 from the paper.\n",
    "The rain is constant at a rate of 0.25 mm/s for 120 minutes.\n",
    "\n",
    "![Case 3 after 125 min](plots/d_fcg_case_3/w_120.png)\n",
    "\n",
    "![Case 3 after 250 min](plots/d_fcg_case_3/w_250.png)\n",
    "\n",
    "![Case 3 after 300 min](plots/d_fcg_case_3/w_300.png)\n"
   ]
  }
 ],
 "metadata": {
  "kernelspec": {
   "display_name": "Python 3.9.7 64-bit",
   "language": "python",
   "name": "python3"
  },
  "language_info": {
   "name": "python",
   "version": "3.9.7"
  },
  "orig_nbformat": 4,
  "vscode": {
   "interpreter": {
    "hash": "916dbcbb3f70747c44a77c7bcd40155683ae19c65e1c03b4aa3499c5328201f1"
   }
  }
 },
 "nbformat": 4,
 "nbformat_minor": 2
}
